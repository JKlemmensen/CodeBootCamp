{
  "cells": [
    {
      "cell_type": "code",
      "execution_count": null,
      "metadata": {
        "id": "8RZOuS9LWQvv"
      },
      "outputs": [],
      "source": [
        "# import libraries\n",
        "try:\n",
        "  # %tensorflow_version only exists in Colab.\n",
        "  !pip install tf-nightly\n",
        "except Exception:\n",
        "  pass\n",
        "import tensorflow as tf\n",
        "import pandas as pd\n",
        "from tensorflow import keras\n",
        "!pip install tensorflow-datasets\n",
        "import tensorflow_datasets as tfds\n",
        "import numpy as np\n",
        "import matplotlib.pyplot as plt\n",
        "\n",
        "print(tf.__version__)\n"
      ]
    },
    {
      "cell_type": "code",
      "execution_count": null,
      "metadata": {
        "id": "T-g7zY9sKdxs"
      },
      "outputs": [],
      "source": [
        "from keras.preprocessing import sequence\n",
        "import math\n",
        "from keras.preprocessing.text import Tokenizer"
      ]
    },
    {
      "cell_type": "code",
      "execution_count": null,
      "metadata": {
        "id": "lMHwYXHXCar3"
      },
      "outputs": [],
      "source": [
        "# get data files\n",
        "!wget https://cdn.freecodecamp.org/project-data/sms/train-data.tsv\n",
        "!wget https://cdn.freecodecamp.org/project-data/sms/valid-data.tsv\n",
        "\n",
        "train_file_path = \"train-data.tsv\"\n",
        "test_file_path = \"valid-data.tsv\""
      ]
    },
    {
      "cell_type": "code",
      "execution_count": null,
      "metadata": {
        "id": "g_h508FEClxO"
      },
      "outputs": [],
      "source": [
        "#Load the data\n",
        "column_names = ['status', 'text']\n",
        "train_data = pd.read_csv(\"train-data.tsv\", sep='\\t', names=column_names)\n",
        "test_data_raw = pd.read_csv(\"valid-data.tsv\", sep='\\t',names=column_names)"
      ]
    },
    {
      "cell_type": "code",
      "execution_count": null,
      "metadata": {
        "id": "TrQ1_c0rGFi5"
      },
      "outputs": [],
      "source": [
        "train_data_raw.tail()"
      ]
    },
    {
      "cell_type": "code",
      "execution_count": null,
      "metadata": {
        "id": "zOMKywn4zReN"
      },
      "outputs": [],
      "source": [
        "#Some info about the dataset\n",
        "lengths = [len(sentence) for sentence in train_data_raw['text']]\n",
        "print('mean = ', np.mean(lengths), ', median = ', np.median(lengths), ', max = ', np.max(lengths))"
      ]
    },
    {
      "cell_type": "code",
      "execution_count": null,
      "metadata": {
        "id": "kRgGK9coJ6Aq"
      },
      "outputs": [],
      "source": [
        "MAXLEN = math.floor(2*np.median(lengths))   #Set the max length of sentence to twice the median\n",
        "VOCAB_SIZE = len(lengths)"
      ]
    },
    {
      "cell_type": "code",
      "execution_count": null,
      "metadata": {
        "id": "bms-IgmALiY9"
      },
      "outputs": [],
      "source": [
        "#Tokenize the data using keras' tokenizer-function\n",
        "tokenizer = Tokenizer()\n",
        "tokenizer.fit_on_texts(train_data_raw['text'])\n",
        "train_sequences = tokenizer.texts_to_sequences(train_data_raw['text'])\n",
        "test_sequences = tokenizer.texts_to_sequences(test_data_raw['text'])"
      ]
    },
    {
      "cell_type": "code",
      "execution_count": null,
      "metadata": {
        "id": "W1-IJlkaKKwu"
      },
      "outputs": [],
      "source": [
        "#Pad the data using pad_sequences\n",
        "train_data = sequence.pad_sequences(train_sequences, MAXLEN)\n",
        "test_data = sequence.pad_sequences(test_sequences, MAXLEN)"
      ]
    },
    {
      "cell_type": "code",
      "execution_count": null,
      "metadata": {
        "id": "7_9R2aJgLwaR"
      },
      "outputs": [],
      "source": [
        "#Get a numpy array with 0 for ham and 1 for spam\n",
        "mapping = {'ham': 0, 'spam': 1}\n",
        "train_status = train_data_raw['status'].map(mapping).to_numpy()\n",
        "test_status = test_data_raw['status'].map(mapping).to_numpy()\n",
        "print(train_status)"
      ]
    },
    {
      "cell_type": "code",
      "execution_count": null,
      "metadata": {
        "id": "3gDzN_VzPvUu"
      },
      "outputs": [],
      "source": [
        "model = tf.keras.Sequential([\n",
        "    tf.keras.layers.Embedding(VOCAB_SIZE,32),\n",
        "    tf.keras.layers.LSTM(32),\n",
        "    tf.keras.layers.Dense(16, activation='relu'),\n",
        "    tf.keras.layers.Dense(1, activation='sigmoid')\n",
        "])"
      ]
    },
    {
      "cell_type": "code",
      "execution_count": null,
      "metadata": {
        "id": "6aFN9a3Hclrq"
      },
      "outputs": [],
      "source": [
        "model.summary()"
      ]
    },
    {
      "cell_type": "code",
      "execution_count": null,
      "metadata": {
        "id": "SBiIINLeczTB"
      },
      "outputs": [],
      "source": [
        "#Training the model\n",
        "model.compile(loss = \"binary_crossentropy\", optimizer = \"adam\", metrics = ['acc'])\n",
        "history = model.fit(train_data, train_status, epochs = 10, validation_split = 0.2)"
      ]
    },
    {
      "cell_type": "code",
      "execution_count": null,
      "metadata": {
        "id": "b7kFjmLRhAnV"
      },
      "outputs": [],
      "source": [
        "loss, accuracy = model.evaluate(test_data, test_status)"
      ]
    },
    {
      "cell_type": "code",
      "execution_count": null,
      "metadata": {
        "id": "ukupt_ekdMLg"
      },
      "outputs": [],
      "source": [
        "def preprocessor(text):\n",
        "  text_tok = tokenizer.texts_to_sequences(text)\n",
        "  return (sequence.pad_sequences(text_tok, MAXLEN))"
      ]
    },
    {
      "cell_type": "code",
      "execution_count": null,
      "metadata": {
        "id": "r4WvoKiqebIi"
      },
      "outputs": [],
      "source": [
        "print(preprocessor(['Hello World']))"
      ]
    },
    {
      "cell_type": "code",
      "execution_count": null,
      "metadata": {
        "id": "J9tD9yACG6M9"
      },
      "outputs": [],
      "source": [
        "# function to predict messages based on model\n",
        "#spam means spam, ham means not spam\n",
        "def predict_message(pred_text):\n",
        "  pred_text_proc = preprocessor(pred_text)\n",
        "  prediction_num = model.predict(pred_text_proc)\n",
        "  prediction = ['spam' if value >= 0.5 else 'ham' for value in prediction_num]\n",
        "\n",
        "  return prediction"
      ]
    },
    {
      "cell_type": "code",
      "execution_count": null,
      "metadata": {
        "id": "Dxotov85SjsC"
      },
      "outputs": [],
      "source": [
        "# Run this cell to test your function and model. Do not modify contents.\n",
        "def test_predictions():\n",
        "  test_messages = [\"how are you doing today\",\n",
        "                   \"sale today! to stop texts call 98912460324\",\n",
        "                   \"i dont want to go. can we try it a different day? available sat\",\n",
        "                   \"our new mobile video service is live. just install on your phone to start watching.\",\n",
        "                   \"you have won £1000 cash! call to claim your prize.\",\n",
        "                   \"i'll bring it tomorrow. don't forget the milk.\",\n",
        "                   \"wow, is your arm alright. that happened to me one time too\"\n",
        "                  ]\n",
        "\n",
        "  test_answers = [\"ham\", \"spam\", \"ham\", \"spam\", \"spam\", \"ham\", \"ham\"]\n",
        "  passed = True\n",
        "  if predict_message(test_messages) != test_answers:\n",
        "      passed = False\n",
        "\n",
        "  if passed:\n",
        "    print(\"You passed the challenge. Great job!\")\n",
        "  else:\n",
        "    print(\"You haven't passed yet. Keep trying.\")\n",
        "\n",
        "test_predictions()\n"
      ]
    }
  ],
  "metadata": {
    "colab": {
      "private_outputs": true,
      "provenance": [],
      "gpuType": "T4"
    },
    "kernelspec": {
      "display_name": "Python 3",
      "name": "python3"
    },
    "accelerator": "GPU"
  },
  "nbformat": 4,
  "nbformat_minor": 0
}
