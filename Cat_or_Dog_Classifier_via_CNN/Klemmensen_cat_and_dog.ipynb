{
  "cells": [
    {
      "cell_type": "code",
      "execution_count": null,
      "metadata": {
        "id": "la_Oz6oLlub6"
      },
      "outputs": [],
      "source": [
        "try:\n",
        "  # This command only in Colab.\n",
        "  %tensorflow_version 2.x\n",
        "except Exception:\n",
        "  pass\n",
        "import tensorflow as tf\n",
        "\n",
        "from tensorflow.keras.models import Sequential\n",
        "from tensorflow.keras import layers\n",
        "from tensorflow.keras.layers import Dense, Conv2D, Flatten, Dropout, MaxPooling2D\n",
        "from tensorflow.keras.preprocessing.image import ImageDataGenerator\n",
        "from keras import layers\n",
        "\n",
        "import os\n",
        "import numpy as np\n",
        "import matplotlib.pyplot as plt"
      ]
    },
    {
      "cell_type": "code",
      "execution_count": null,
      "metadata": {
        "id": "jaF8r6aOl48C"
      },
      "outputs": [],
      "source": [
        "# Get project files\n",
        "!wget https://cdn.freecodecamp.org/project-data/cats-and-dogs/cats_and_dogs.zip\n",
        "\n",
        "!unzip cats_and_dogs.zip\n",
        "\n",
        "PATH = 'cats_and_dogs'\n",
        "\n",
        "train_dir = os.path.join(PATH, 'train')\n",
        "validation_dir = os.path.join(PATH, 'validation')\n",
        "test_dir = os.path.join(PATH, 'test')\n",
        "\n",
        "# Get number of files in each directory. The train and validation directories\n",
        "# each have the subdirecories \"dogs\" and \"cats\".\n",
        "total_train = sum([len(files) for r, d, files in os.walk(train_dir)])\n",
        "total_val = sum([len(files) for r, d, files in os.walk(validation_dir)])\n",
        "total_test = len(os.listdir(test_dir))\n",
        "\n",
        "# Variables for pre-processing and training.\n",
        "batch_size = 128\n",
        "epochs = 20\n",
        "IMG_HEIGHT = 150\n",
        "IMG_WIDTH = 150"
      ]
    },
    {
      "cell_type": "code",
      "execution_count": null,
      "metadata": {
        "colab": {
          "base_uri": "https://localhost:8080/"
        },
        "id": "EOJFeEfumns6",
        "outputId": "863eea91-93ef-4573-9ac5-6df3ac3164bf"
      },
      "outputs": [
        {
          "output_type": "stream",
          "name": "stdout",
          "text": [
            "Found 2000 images belonging to 2 classes.\n",
            "Found 1000 images belonging to 2 classes.\n",
            "Found 50 images belonging to 1 classes.\n"
          ]
        }
      ],
      "source": [
        "# 3\n",
        "#Create the image generator and transform the data\n",
        "train_image_generator = ImageDataGenerator(rescale=1/255)\n",
        "validation_image_generator = ImageDataGenerator(rescale=1/255)\n",
        "test_image_generator = ImageDataGenerator(rescale=1/255)\n",
        "\n",
        "\n",
        "train_data_gen = train_image_generator.flow_from_directory(batch_size=batch_size,\n",
        "                                                     directory=train_dir,\n",
        "                                                     target_size=(IMG_HEIGHT, IMG_WIDTH),\n",
        "                                                     class_mode='binary')\n",
        "val_data_gen = validation_image_generator.flow_from_directory(batch_size=batch_size,\n",
        "                                                     directory=validation_dir,\n",
        "                                                     target_size=(IMG_HEIGHT, IMG_WIDTH),\n",
        "                                                     class_mode='binary')\n",
        "test_data_gen = test_image_generator.flow_from_directory(batch_size=batch_size,\n",
        "                                                     directory=PATH, classes=['test'],\n",
        "                                                     target_size=(IMG_HEIGHT, IMG_WIDTH),\n",
        "                                                     class_mode=\"input\", shuffle=False)"
      ]
    },
    {
      "cell_type": "code",
      "execution_count": null,
      "metadata": {
        "id": "TP0WA8j1mt7Q"
      },
      "outputs": [],
      "source": [
        "# 4\n",
        "def plotImages(images_arr, probabilities = False):\n",
        "    fig, axes = plt.subplots(len(images_arr), 1, figsize=(5,len(images_arr) * 3))\n",
        "    if probabilities is False:\n",
        "      for img, ax in zip( images_arr, axes):\n",
        "          ax.imshow(img)\n",
        "          ax.axis('off')\n",
        "    else:\n",
        "      for img, probability, ax in zip( images_arr, probabilities, axes):\n",
        "          ax.imshow(img)\n",
        "          ax.axis('off')\n",
        "          if probability > 0.5:\n",
        "              ax.set_title(\"%.2f\" % (probability*100) + \"% dog\")\n",
        "          else:\n",
        "              ax.set_title(\"%.2f\" % ((1-probability)*100) + \"% cat\")\n",
        "    plt.show()\n",
        "\n",
        "sample_training_images, _ = next(train_data_gen)\n",
        "plotImages(sample_training_images[:5])\n"
      ]
    },
    {
      "cell_type": "code",
      "execution_count": null,
      "metadata": {
        "id": "-32RRLY_3voj"
      },
      "outputs": [],
      "source": [
        "# 5\n",
        "#Train image generator making copies transformed in different ways\n",
        "train_image_generator = ImageDataGenerator(rescale=1/255, fill_mode=\"nearest\",\n",
        "                                          width_shift_range=0.3,\n",
        "                                           horizontal_flip=True,\n",
        "                                           vertical_flip=True,\n",
        "                                          height_shift_range=0.3,\n",
        "                                           zoom_range=0.2,\n",
        "                                           shear_range=0.3)\n"
      ]
    },
    {
      "cell_type": "code",
      "execution_count": null,
      "metadata": {
        "colab": {
          "base_uri": "https://localhost:8080/"
        },
        "id": "pkwq2LFvqabS",
        "outputId": "c6bc6b1d-2453-4771-b6f5-b7973acf95c1"
      },
      "outputs": [
        {
          "output_type": "stream",
          "name": "stdout",
          "text": [
            "Found 2000 images belonging to 2 classes.\n"
          ]
        }
      ],
      "source": [
        "# 6\n",
        "#Create the transformed training data\n",
        "train_data_gen = train_image_generator.flow_from_directory(batch_size=batch_size,\n",
        "                                                     directory=train_dir,\n",
        "                                                     target_size=(IMG_HEIGHT, IMG_WIDTH),\n",
        "                                                     class_mode='binary')\n",
        "\n",
        "augmented_images = [train_data_gen[0][0][0] for i in range(5)]\n",
        "\n",
        "#plotImages(augmented_images)"
      ]
    },
    {
      "cell_type": "code",
      "execution_count": null,
      "metadata": {
        "colab": {
          "base_uri": "https://localhost:8080/"
        },
        "id": "k8aZkwMam4UY",
        "outputId": "1a27ac55-c61c-419e-9da5-d78adb05f844"
      },
      "outputs": [
        {
          "output_type": "stream",
          "name": "stdout",
          "text": [
            "Model: \"sequential_4\"\n",
            "_________________________________________________________________\n",
            " Layer (type)                Output Shape              Param #   \n",
            "=================================================================\n",
            " conv2d_14 (Conv2D)          (None, 148, 148, 32)      896       \n",
            "                                                                 \n",
            " max_pooling2d_14 (MaxPooli  (None, 74, 74, 32)        0         \n",
            " ng2D)                                                           \n",
            "                                                                 \n",
            " conv2d_15 (Conv2D)          (None, 72, 72, 64)        18496     \n",
            "                                                                 \n",
            " max_pooling2d_15 (MaxPooli  (None, 36, 36, 64)        0         \n",
            " ng2D)                                                           \n",
            "                                                                 \n",
            " conv2d_16 (Conv2D)          (None, 34, 34, 128)       73856     \n",
            "                                                                 \n",
            " max_pooling2d_16 (MaxPooli  (None, 17, 17, 128)       0         \n",
            " ng2D)                                                           \n",
            "                                                                 \n",
            " flatten_4 (Flatten)         (None, 36992)             0         \n",
            "                                                                 \n",
            " dense_12 (Dense)            (None, 64)                2367552   \n",
            "                                                                 \n",
            " dense_13 (Dense)            (None, 2)                 130       \n",
            "                                                                 \n",
            "=================================================================\n",
            "Total params: 2460930 (9.39 MB)\n",
            "Trainable params: 2460930 (9.39 MB)\n",
            "Non-trainable params: 0 (0.00 Byte)\n",
            "_________________________________________________________________\n"
          ]
        }
      ],
      "source": [
        "# 7\n",
        "#Define the model\n",
        "model = Sequential()\n",
        "model.add(Conv2D(32, (3, 3), activation='relu', input_shape=(150, 150, 3)))\n",
        "model.add(MaxPooling2D((2,2)))\n",
        "model.add(Conv2D(64, (3, 3), activation='relu'))\n",
        "model.add(MaxPooling2D((2,2)))\n",
        "model.add(Conv2D(128, (3, 3), activation='relu'))\n",
        "model.add(MaxPooling2D((2,2)))\n",
        "model.add(Flatten())\n",
        "model.add(Dense(64))\n",
        "model.add(Dense(2))\n",
        "\n",
        "model.compile(optimizer='adam', metrics=['accuracy'], loss=SparseCategoricalCrossentropy(from_logits=True))\n",
        "model.summary()"
      ]
    },
    {
      "cell_type": "code",
      "execution_count": null,
      "metadata": {
        "colab": {
          "base_uri": "https://localhost:8080/"
        },
        "id": "1niQDz5x6K7y",
        "outputId": "420b3b81-a225-4332-ba74-ac03b27dd323"
      },
      "outputs": [
        {
          "output_type": "stream",
          "name": "stdout",
          "text": [
            "Epoch 1/20\n",
            "15/15 [==============================] - 18s 1s/step - loss: 1.4873 - accuracy: 0.4834 - val_loss: 0.6863 - val_accuracy: 0.5045\n",
            "Epoch 2/20\n",
            "15/15 [==============================] - 16s 1s/step - loss: 0.6880 - accuracy: 0.5219 - val_loss: 0.6784 - val_accuracy: 0.5993\n",
            "Epoch 3/20\n",
            "15/15 [==============================] - 16s 1s/step - loss: 0.6892 - accuracy: 0.5358 - val_loss: 0.6605 - val_accuracy: 0.6094\n",
            "Epoch 4/20\n",
            "15/15 [==============================] - 16s 1s/step - loss: 0.6755 - accuracy: 0.5609 - val_loss: 0.6825 - val_accuracy: 0.5056\n",
            "Epoch 5/20\n",
            "15/15 [==============================] - 16s 1s/step - loss: 0.6678 - accuracy: 0.5764 - val_loss: 0.6617 - val_accuracy: 0.5748\n",
            "Epoch 6/20\n",
            "15/15 [==============================] - 16s 1s/step - loss: 0.6624 - accuracy: 0.5785 - val_loss: 0.6511 - val_accuracy: 0.5893\n",
            "Epoch 7/20\n",
            "15/15 [==============================] - 17s 1s/step - loss: 0.6587 - accuracy: 0.5753 - val_loss: 0.6382 - val_accuracy: 0.6060\n",
            "Epoch 8/20\n",
            "15/15 [==============================] - 15s 1s/step - loss: 0.6554 - accuracy: 0.5901 - val_loss: 0.6367 - val_accuracy: 0.5960\n",
            "Epoch 9/20\n",
            "15/15 [==============================] - 16s 1s/step - loss: 0.6639 - accuracy: 0.5620 - val_loss: 0.6559 - val_accuracy: 0.5580\n",
            "Epoch 10/20\n",
            "15/15 [==============================] - 16s 1s/step - loss: 0.6506 - accuracy: 0.5988 - val_loss: 0.7245 - val_accuracy: 0.5480\n",
            "Epoch 11/20\n",
            "15/15 [==============================] - 15s 1s/step - loss: 0.6469 - accuracy: 0.5983 - val_loss: 0.6301 - val_accuracy: 0.6016\n",
            "Epoch 12/20\n",
            "15/15 [==============================] - 16s 1s/step - loss: 0.6509 - accuracy: 0.5855 - val_loss: 0.6265 - val_accuracy: 0.6228\n",
            "Epoch 13/20\n",
            "15/15 [==============================] - 15s 1s/step - loss: 0.6428 - accuracy: 0.6047 - val_loss: 0.6219 - val_accuracy: 0.6417\n",
            "Epoch 14/20\n",
            "15/15 [==============================] - 16s 1s/step - loss: 0.6287 - accuracy: 0.6282 - val_loss: 0.6343 - val_accuracy: 0.6317\n",
            "Epoch 15/20\n",
            "15/15 [==============================] - 16s 1s/step - loss: 0.6314 - accuracy: 0.6349 - val_loss: 0.6363 - val_accuracy: 0.6306\n",
            "Epoch 16/20\n",
            "15/15 [==============================] - 15s 1s/step - loss: 0.6338 - accuracy: 0.6271 - val_loss: 0.6128 - val_accuracy: 0.6585\n",
            "Epoch 17/20\n",
            "15/15 [==============================] - 18s 1s/step - loss: 0.6342 - accuracy: 0.6437 - val_loss: 0.5987 - val_accuracy: 0.6629\n",
            "Epoch 18/20\n",
            "15/15 [==============================] - 16s 1s/step - loss: 0.6241 - accuracy: 0.6405 - val_loss: 0.5917 - val_accuracy: 0.6741\n",
            "Epoch 19/20\n",
            "15/15 [==============================] - 16s 1s/step - loss: 0.6124 - accuracy: 0.6510 - val_loss: 0.6133 - val_accuracy: 0.6518\n",
            "Epoch 20/20\n",
            "15/15 [==============================] - 16s 1s/step - loss: 0.6118 - accuracy: 0.6683 - val_loss: 0.5643 - val_accuracy: 0.7132\n"
          ]
        }
      ],
      "source": [
        "# 8\n",
        "#Train the model\n",
        "history = model.fit(train_data_gen, steps_per_epoch=total_train//batch_size, epochs=epochs,\n",
        "                    validation_data=val_data_gen, validation_steps=total_val//batch_size, verbose=1)"
      ]
    },
    {
      "cell_type": "markdown",
      "metadata": {
        "id": "cjhoGKs5R4wf"
      },
      "source": []
    },
    {
      "cell_type": "code",
      "execution_count": null,
      "metadata": {
        "colab": {
          "base_uri": "https://localhost:8080/",
          "height": 699
        },
        "id": "5xS51mB56OAC",
        "outputId": "4be7b2a7-f51e-44f8-88c5-bfd8a1a65e7c"
      },
      "outputs": [
        {
          "output_type": "display_data",
          "data": {
            "text/plain": [
              "<Figure size 800x800 with 2 Axes>"
            ],
            "image/png": "[encoded data removed]"
          },
          "metadata": {}
        }
      ],
      "source": [
        "# 9\n",
        "acc = history.history['accuracy']\n",
        "val_acc = history.history['val_accuracy']\n",
        "\n",
        "loss = history.history['loss']\n",
        "val_loss = history.history['val_loss']\n",
        "\n",
        "epochs_range = range(epochs)\n",
        "\n",
        "plt.figure(figsize=(8, 8))\n",
        "plt.subplot(1, 2, 1)\n",
        "plt.plot(epochs_range, acc, label='Training Accuracy')\n",
        "plt.plot(epochs_range, val_acc, label='Validation Accuracy')\n",
        "plt.legend(loc='lower right')\n",
        "plt.title('Training and Validation Accuracy')\n",
        "\n",
        "plt.subplot(1, 2, 2)\n",
        "plt.plot(epochs_range, loss, label='Training Loss')\n",
        "plt.plot(epochs_range, val_loss, label='Validation Loss')\n",
        "plt.legend(loc='upper right')\n",
        "plt.title('Training and Validation Loss')\n",
        "plt.show()"
      ]
    },
    {
      "cell_type": "code",
      "execution_count": null,
      "metadata": {
        "colab": {
          "base_uri": "https://localhost:8080/"
        },
        "id": "vYrSifOit2aK",
        "outputId": "feeb7a52-d6fd-432e-8479-d1a06988c208"
      },
      "outputs": [
        {
          "output_type": "stream",
          "name": "stdout",
          "text": [
            "1/1 [==============================] - 0s 172ms/step\n"
          ]
        }
      ],
      "source": [
        "#10\n",
        "#Predict the test data and take the value that is the largest, i.e. cat or dog.\n",
        "probabilities = np.argmax(model.predict(test_data_gen), axis=-1)"
      ]
    },
    {
      "cell_type": "code",
      "execution_count": 29,
      "metadata": {
        "colab": {
          "base_uri": "https://localhost:8080/"
        },
        "id": "4IH86Ux_u7TZ",
        "outputId": "2cd49006-384e-4b45-b28a-1e8b9e83d996"
      },
      "outputs": [
        {
          "output_type": "stream",
          "name": "stdout",
          "text": [
            "Your model correctly identified 68.0% of the images of cats and dogs.\n",
            "You passed the challenge!\n"
          ]
        }
      ],
      "source": [
        "# 11\n",
        "answers =  [1, 0, 0, 1, 0, 0, 0, 0, 1, 1, 0,\n",
        "            1, 0, 1, 0, 1, 1, 0, 1, 1, 0, 0,\n",
        "            1, 1, 1, 1, 1, 0, 0, 0, 0, 0, 1,\n",
        "            1, 0, 1, 1, 1, 1, 0, 1, 0, 1, 1,\n",
        "            0, 0, 0, 0, 0, 0]\n",
        "\n",
        "correct = 0\n",
        "\n",
        "for probability, answer in zip(probabilities, answers):\n",
        "  if round(probability) == answer:\n",
        "    correct +=1\n",
        "\n",
        "percentage_identified = (correct / len(answers)) * 100\n",
        "\n",
        "passed_challenge = percentage_identified >= 63\n",
        "\n",
        "print(f\"Your model correctly identified {round(percentage_identified, 2)}% of the images of cats and dogs.\")\n",
        "\n",
        "if passed_challenge:\n",
        "  print(\"You passed the challenge!\")\n",
        "else:\n",
        "  print(\"You haven't passed yet. Your model should identify at least 63% of the images. Keep trying. You will get it!\")"
      ]
    }
  ],
  "metadata": {
    "colab": {
      "provenance": [],
      "gpuType": "T4"
    },
    "kernelspec": {
      "display_name": "Python 3",
      "name": "python3"
    },
    "language_info": {
      "codemirror_mode": {
        "name": "ipython",
        "version": 3
      },
      "file_extension": ".py",
      "mimetype": "text/x-python",
      "name": "python",
      "nbconvert_exporter": "python",
      "pygments_lexer": "ipython3",
      "version": "3.10.11"
    },
    "accelerator": "GPU"
  },
  "nbformat": 4,
  "nbformat_minor": 0
}